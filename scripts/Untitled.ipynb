{
 "cells": [
  {
   "cell_type": "code",
   "execution_count": null,
   "metadata": {
    "collapsed": true
   },
   "outputs": [],
   "source": [
    "map_probs = \n",
    "\n",
    "mapLength = len(self.map_probs)\n",
    "mapArray = np.reshape(self.map_probs, (self.map_height, self.map_width))\n",
    "\n",
    "# build circular buffer mask\n",
    "bufferMask = np.zeros([1+2*bufferRadius,1+2*bufferRadius])\n",
    "for i in range(bufferMask.shape[0]):\n",
    "    for j in range(bufferMask.shape[1]):\n",
    "        if (i-bufferRadius)**2 + (j-bufferRadius)**2 <= bufferRadius**2:\n",
    "            bufferMask[i][j] = 1\n",
    "\n",
    "# convolve\n",
    "convolvedMap = signal.convolve2d(mapArray,bufferMask,mode='same')\n",
    "mapArray[convolvedMap > 0] = 100\n",
    "\n",
    "# update map\n",
    "self.map_probs = np.reshape(mapArray, (length,))"
   ]
  }
 ],
 "metadata": {
  "kernelspec": {
   "display_name": "Python 2",
   "language": "python",
   "name": "python2"
  },
  "language_info": {
   "codemirror_mode": {
    "name": "ipython",
    "version": 2
   },
   "file_extension": ".py",
   "mimetype": "text/x-python",
   "name": "python",
   "nbconvert_exporter": "python",
   "pygments_lexer": "ipython2",
   "version": "2.7.12"
  }
 },
 "nbformat": 4,
 "nbformat_minor": 2
}
